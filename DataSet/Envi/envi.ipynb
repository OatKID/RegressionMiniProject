{
 "cells": [
  {
   "cell_type": "markdown",
   "metadata": {},
   "source": [
    "## การเตรียมชุดข้อมูลตัวอย่างของแอปเปิ้ลสายพันธุ๋ Envi ใน UK"
   ]
  },
  {
   "cell_type": "markdown",
   "metadata": {},
   "source": [
    "- ทำการอ่านไฟล์ Apple462.csv \n",
    "- คัดกรองชุดข้อมูลตัวอย่างเฉพาะประเทศ UK"
   ]
  },
  {
   "cell_type": "code",
   "execution_count": 1,
   "metadata": {},
   "outputs": [
    {
     "data": {
      "text/html": [
       "<div>\n",
       "<style scoped>\n",
       "    .dataframe tbody tr th:only-of-type {\n",
       "        vertical-align: middle;\n",
       "    }\n",
       "\n",
       "    .dataframe tbody tr th {\n",
       "        vertical-align: top;\n",
       "    }\n",
       "\n",
       "    .dataframe thead th {\n",
       "        text-align: right;\n",
       "    }\n",
       "</style>\n",
       "<table border=\"1\" class=\"dataframe\">\n",
       "  <thead>\n",
       "    <tr style=\"text-align: right;\">\n",
       "      <th></th>\n",
       "      <th>Date</th>\n",
       "      <th>Envi</th>\n",
       "      <th>Fuji</th>\n",
       "      <th>Gala</th>\n",
       "      <th>region</th>\n",
       "    </tr>\n",
       "  </thead>\n",
       "  <tbody>\n",
       "    <tr>\n",
       "      <th>156</th>\n",
       "      <td>27/12/2015</td>\n",
       "      <td>30482</td>\n",
       "      <td>2972</td>\n",
       "      <td>5894</td>\n",
       "      <td>UK</td>\n",
       "    </tr>\n",
       "    <tr>\n",
       "      <th>157</th>\n",
       "      <td>20/12/2015</td>\n",
       "      <td>25628</td>\n",
       "      <td>2546</td>\n",
       "      <td>7394</td>\n",
       "      <td>UK</td>\n",
       "    </tr>\n",
       "    <tr>\n",
       "      <th>158</th>\n",
       "      <td>13/12/2015</td>\n",
       "      <td>27149</td>\n",
       "      <td>2986</td>\n",
       "      <td>6458</td>\n",
       "      <td>UK</td>\n",
       "    </tr>\n",
       "    <tr>\n",
       "      <th>159</th>\n",
       "      <td>6/12/2015</td>\n",
       "      <td>35591</td>\n",
       "      <td>12527</td>\n",
       "      <td>4086</td>\n",
       "      <td>UK</td>\n",
       "    </tr>\n",
       "    <tr>\n",
       "      <th>160</th>\n",
       "      <td>29/11/2015</td>\n",
       "      <td>24190</td>\n",
       "      <td>2790</td>\n",
       "      <td>6031</td>\n",
       "      <td>UK</td>\n",
       "    </tr>\n",
       "    <tr>\n",
       "      <th>161</th>\n",
       "      <td>22/11/2015</td>\n",
       "      <td></td>\n",
       "      <td>3256</td>\n",
       "      <td>6663</td>\n",
       "      <td>UK</td>\n",
       "    </tr>\n",
       "    <tr>\n",
       "      <th>162</th>\n",
       "      <td>15/11/2015</td>\n",
       "      <td>24425</td>\n",
       "      <td>12086</td>\n",
       "      <td>6502</td>\n",
       "      <td>UK</td>\n",
       "    </tr>\n",
       "    <tr>\n",
       "      <th>163</th>\n",
       "      <td>8/11/2015</td>\n",
       "      <td>31910</td>\n",
       "      <td>4652</td>\n",
       "      <td>6286</td>\n",
       "      <td>UK</td>\n",
       "    </tr>\n",
       "    <tr>\n",
       "      <th>164</th>\n",
       "      <td>1/11/2015</td>\n",
       "      <td>30435</td>\n",
       "      <td>4360</td>\n",
       "      <td>6428</td>\n",
       "      <td>UK</td>\n",
       "    </tr>\n",
       "    <tr>\n",
       "      <th>165</th>\n",
       "      <td>25/10/2015</td>\n",
       "      <td>29522</td>\n",
       "      <td>10090</td>\n",
       "      <td>6552</td>\n",
       "      <td>UK</td>\n",
       "    </tr>\n",
       "  </tbody>\n",
       "</table>\n",
       "</div>"
      ],
      "text/plain": [
       "           Date   Envi   Fuji  Gala region\n",
       "156  27/12/2015  30482   2972  5894     UK\n",
       "157  20/12/2015  25628   2546  7394     UK\n",
       "158  13/12/2015  27149   2986  6458     UK\n",
       "159   6/12/2015  35591  12527  4086     UK\n",
       "160  29/11/2015  24190   2790  6031     UK\n",
       "161  22/11/2015          3256  6663     UK\n",
       "162  15/11/2015  24425  12086  6502     UK\n",
       "163   8/11/2015  31910   4652  6286     UK\n",
       "164   1/11/2015  30435   4360  6428     UK\n",
       "165  25/10/2015  29522  10090  6552     UK"
      ]
     },
     "execution_count": 1,
     "metadata": {},
     "output_type": "execute_result"
    }
   ],
   "source": [
    "import pandas as pd\n",
    "import numpy as np\n",
    "df = pd.read_csv('../Apple462.csv')\n",
    "df = df.drop(df[df[\"region\"] != \"UK\"].index)\n",
    "df = df.drop(columns=[\"Unnamed: 0\"])\n",
    "df.head(10)"
   ]
  },
  {
   "cell_type": "markdown",
   "metadata": {},
   "source": [
    "- นำ features ของวันที่และสายพันธุ์ Envi แล้วสร้าง\n",
    "ชุดข้อมูลตัวอย่างใหม่"
   ]
  },
  {
   "cell_type": "code",
   "execution_count": 2,
   "metadata": {},
   "outputs": [
    {
     "data": {
      "text/html": [
       "<div>\n",
       "<style scoped>\n",
       "    .dataframe tbody tr th:only-of-type {\n",
       "        vertical-align: middle;\n",
       "    }\n",
       "\n",
       "    .dataframe tbody tr th {\n",
       "        vertical-align: top;\n",
       "    }\n",
       "\n",
       "    .dataframe thead th {\n",
       "        text-align: right;\n",
       "    }\n",
       "</style>\n",
       "<table border=\"1\" class=\"dataframe\">\n",
       "  <thead>\n",
       "    <tr style=\"text-align: right;\">\n",
       "      <th></th>\n",
       "      <th>Date</th>\n",
       "      <th>Envi</th>\n",
       "    </tr>\n",
       "  </thead>\n",
       "  <tbody>\n",
       "    <tr>\n",
       "      <th>156</th>\n",
       "      <td>27/12/2015</td>\n",
       "      <td>30482</td>\n",
       "    </tr>\n",
       "    <tr>\n",
       "      <th>157</th>\n",
       "      <td>20/12/2015</td>\n",
       "      <td>25628</td>\n",
       "    </tr>\n",
       "    <tr>\n",
       "      <th>158</th>\n",
       "      <td>13/12/2015</td>\n",
       "      <td>27149</td>\n",
       "    </tr>\n",
       "    <tr>\n",
       "      <th>159</th>\n",
       "      <td>6/12/2015</td>\n",
       "      <td>35591</td>\n",
       "    </tr>\n",
       "    <tr>\n",
       "      <th>160</th>\n",
       "      <td>29/11/2015</td>\n",
       "      <td>24190</td>\n",
       "    </tr>\n",
       "    <tr>\n",
       "      <th>161</th>\n",
       "      <td>22/11/2015</td>\n",
       "      <td></td>\n",
       "    </tr>\n",
       "    <tr>\n",
       "      <th>162</th>\n",
       "      <td>15/11/2015</td>\n",
       "      <td>24425</td>\n",
       "    </tr>\n",
       "    <tr>\n",
       "      <th>163</th>\n",
       "      <td>8/11/2015</td>\n",
       "      <td>31910</td>\n",
       "    </tr>\n",
       "    <tr>\n",
       "      <th>164</th>\n",
       "      <td>1/11/2015</td>\n",
       "      <td>30435</td>\n",
       "    </tr>\n",
       "    <tr>\n",
       "      <th>165</th>\n",
       "      <td>25/10/2015</td>\n",
       "      <td>29522</td>\n",
       "    </tr>\n",
       "  </tbody>\n",
       "</table>\n",
       "</div>"
      ],
      "text/plain": [
       "           Date   Envi\n",
       "156  27/12/2015  30482\n",
       "157  20/12/2015  25628\n",
       "158  13/12/2015  27149\n",
       "159   6/12/2015  35591\n",
       "160  29/11/2015  24190\n",
       "161  22/11/2015       \n",
       "162  15/11/2015  24425\n",
       "163   8/11/2015  31910\n",
       "164   1/11/2015  30435\n",
       "165  25/10/2015  29522"
      ]
     },
     "execution_count": 2,
     "metadata": {},
     "output_type": "execute_result"
    }
   ],
   "source": [
    "df_envi = df.drop(columns=[\"Fuji\", \"Gala\", \"region\"])\n",
    "df_envi.head(10)"
   ]
  },
  {
   "cell_type": "markdown",
   "metadata": {},
   "source": [
    "- เปลี่ยนชนิดข้อมูลของวันที่จาก object เป็น date\n",
    "- นำชุดข้อมูลตัวอย่างมาเรียงชุดข้อมูลตัวอย่างใหม่ตามวันที่จากเก่าไปใหม่"
   ]
  },
  {
   "cell_type": "code",
   "execution_count": 3,
   "metadata": {},
   "outputs": [
    {
     "name": "stdout",
     "output_type": "stream",
     "text": [
      "<class 'pandas.core.frame.DataFrame'>\n",
      "Index: 169 entries, 156 to 3344\n",
      "Data columns (total 2 columns):\n",
      " #   Column  Non-Null Count  Dtype         \n",
      "---  ------  --------------  -----         \n",
      " 0   Date    169 non-null    datetime64[ns]\n",
      " 1   Envi    169 non-null    object        \n",
      "dtypes: datetime64[ns](1), object(1)\n",
      "memory usage: 4.0+ KB\n"
     ]
    }
   ],
   "source": [
    "df_envi[\"Date\"] = pd.to_datetime(df_envi[\"Date\"], format=\"%d/%m/%Y\")\n",
    "df_envi.info()"
   ]
  },
  {
   "cell_type": "code",
   "execution_count": 4,
   "metadata": {},
   "outputs": [
    {
     "data": {
      "text/html": [
       "<div>\n",
       "<style scoped>\n",
       "    .dataframe tbody tr th:only-of-type {\n",
       "        vertical-align: middle;\n",
       "    }\n",
       "\n",
       "    .dataframe tbody tr th {\n",
       "        vertical-align: top;\n",
       "    }\n",
       "\n",
       "    .dataframe thead th {\n",
       "        text-align: right;\n",
       "    }\n",
       "</style>\n",
       "<table border=\"1\" class=\"dataframe\">\n",
       "  <thead>\n",
       "    <tr style=\"text-align: right;\">\n",
       "      <th></th>\n",
       "      <th>Date</th>\n",
       "      <th>Envi</th>\n",
       "    </tr>\n",
       "  </thead>\n",
       "  <tbody>\n",
       "    <tr>\n",
       "      <th>207</th>\n",
       "      <td>04/01/2015</td>\n",
       "      <td>44562</td>\n",
       "    </tr>\n",
       "    <tr>\n",
       "      <th>206</th>\n",
       "      <td>11/01/2015</td>\n",
       "      <td>38112</td>\n",
       "    </tr>\n",
       "    <tr>\n",
       "      <th>205</th>\n",
       "      <td>18/01/2015</td>\n",
       "      <td>50355</td>\n",
       "    </tr>\n",
       "    <tr>\n",
       "      <th>204</th>\n",
       "      <td>25/01/2015</td>\n",
       "      <td>51922</td>\n",
       "    </tr>\n",
       "    <tr>\n",
       "      <th>203</th>\n",
       "      <td>01/02/2015</td>\n",
       "      <td>67496</td>\n",
       "    </tr>\n",
       "    <tr>\n",
       "      <th>202</th>\n",
       "      <td>08/02/2015</td>\n",
       "      <td>54229</td>\n",
       "    </tr>\n",
       "    <tr>\n",
       "      <th>201</th>\n",
       "      <td>15/02/2015</td>\n",
       "      <td>41548</td>\n",
       "    </tr>\n",
       "    <tr>\n",
       "      <th>200</th>\n",
       "      <td>22/02/2015</td>\n",
       "      <td>50872</td>\n",
       "    </tr>\n",
       "    <tr>\n",
       "      <th>199</th>\n",
       "      <td>01/03/2015</td>\n",
       "      <td>40578</td>\n",
       "    </tr>\n",
       "    <tr>\n",
       "      <th>198</th>\n",
       "      <td>08/03/2015</td>\n",
       "      <td></td>\n",
       "    </tr>\n",
       "  </tbody>\n",
       "</table>\n",
       "</div>"
      ],
      "text/plain": [
       "           Date   Envi\n",
       "207  04/01/2015  44562\n",
       "206  11/01/2015  38112\n",
       "205  18/01/2015  50355\n",
       "204  25/01/2015  51922\n",
       "203  01/02/2015  67496\n",
       "202  08/02/2015  54229\n",
       "201  15/02/2015  41548\n",
       "200  22/02/2015  50872\n",
       "199  01/03/2015  40578\n",
       "198  08/03/2015       "
      ]
     },
     "execution_count": 4,
     "metadata": {},
     "output_type": "execute_result"
    }
   ],
   "source": [
    "df_envi.sort_values(by=\"Date\", inplace=True)\n",
    "df_envi[\"Date\"] = df_envi[\"Date\"].dt.strftime(\"%d/%m/%Y\")\n",
    "df_envi.head(10)"
   ]
  },
  {
   "cell_type": "markdown",
   "metadata": {},
   "source": [
    "- ตรวจสอลชุดข้อมูลตัวอย่างว่ามี miss value ในวันที่ใดบ้าง"
   ]
  },
  {
   "cell_type": "code",
   "execution_count": 5,
   "metadata": {},
   "outputs": [
    {
     "data": {
      "text/html": [
       "<div>\n",
       "<style scoped>\n",
       "    .dataframe tbody tr th:only-of-type {\n",
       "        vertical-align: middle;\n",
       "    }\n",
       "\n",
       "    .dataframe tbody tr th {\n",
       "        vertical-align: top;\n",
       "    }\n",
       "\n",
       "    .dataframe thead th {\n",
       "        text-align: right;\n",
       "    }\n",
       "</style>\n",
       "<table border=\"1\" class=\"dataframe\">\n",
       "  <thead>\n",
       "    <tr style=\"text-align: right;\">\n",
       "      <th></th>\n",
       "      <th>Date</th>\n",
       "      <th>Envi</th>\n",
       "    </tr>\n",
       "  </thead>\n",
       "  <tbody>\n",
       "    <tr>\n",
       "      <th>198</th>\n",
       "      <td>08/03/2015</td>\n",
       "      <td></td>\n",
       "    </tr>\n",
       "    <tr>\n",
       "      <th>182</th>\n",
       "      <td>28/06/2015</td>\n",
       "      <td></td>\n",
       "    </tr>\n",
       "    <tr>\n",
       "      <th>161</th>\n",
       "      <td>22/11/2015</td>\n",
       "      <td></td>\n",
       "    </tr>\n",
       "    <tr>\n",
       "      <th>1250</th>\n",
       "      <td>11/12/2016</td>\n",
       "      <td></td>\n",
       "    </tr>\n",
       "    <tr>\n",
       "      <th>2387</th>\n",
       "      <td>26/02/2017</td>\n",
       "      <td></td>\n",
       "    </tr>\n",
       "    <tr>\n",
       "      <th>2345</th>\n",
       "      <td>17/12/2017</td>\n",
       "      <td></td>\n",
       "    </tr>\n",
       "    <tr>\n",
       "      <th>3340</th>\n",
       "      <td>04/02/2018</td>\n",
       "      <td></td>\n",
       "    </tr>\n",
       "  </tbody>\n",
       "</table>\n",
       "</div>"
      ],
      "text/plain": [
       "            Date Envi\n",
       "198   08/03/2015     \n",
       "182   28/06/2015     \n",
       "161   22/11/2015     \n",
       "1250  11/12/2016     \n",
       "2387  26/02/2017     \n",
       "2345  17/12/2017     \n",
       "3340  04/02/2018     "
      ]
     },
     "execution_count": 5,
     "metadata": {},
     "output_type": "execute_result"
    }
   ],
   "source": [
    "result = df_envi[df_envi['Envi'] == ' ']\n",
    "result"
   ]
  },
  {
   "cell_type": "markdown",
   "metadata": {},
   "source": [
    "- แก้ไข miss value โดยหาค่าเฉลี่ยของ 2 วันก่อนหน้า\n",
    "- หลังจากแก้ไขแล้วให้เปลี่ยนชนิดข้อมูลของชุดข้อมูลตัวอย่างของ Envi ให้เป็นจำนวนเต็ม ( Integer ) เนื่องจากค่าเฉลี่ยทีได้อาจได้ค่าเป็นทศนิยม ( Float )"
   ]
  },
  {
   "cell_type": "code",
   "execution_count": 6,
   "metadata": {},
   "outputs": [
    {
     "name": "stdout",
     "output_type": "stream",
     "text": [
      "<class 'pandas.core.frame.DataFrame'>\n",
      "Index: 169 entries, 207 to 3333\n",
      "Data columns (total 2 columns):\n",
      " #   Column  Non-Null Count  Dtype \n",
      "---  ------  --------------  ----- \n",
      " 0   Date    169 non-null    object\n",
      " 1   Envi    162 non-null    object\n",
      "dtypes: object(2)\n",
      "memory usage: 8.0+ KB\n"
     ]
    }
   ],
   "source": [
    "for x in df_envi.index:\n",
    "    if df_envi.loc[x, \"Envi\"] == \" \":\n",
    "        df_envi.loc[x, \"Envi\"] = np.nan\n",
    "df_envi.info()"
   ]
  },
  {
   "cell_type": "code",
   "execution_count": 7,
   "metadata": {},
   "outputs": [
    {
     "name": "stdout",
     "output_type": "stream",
     "text": [
      "<class 'pandas.core.frame.DataFrame'>\n",
      "Index: 169 entries, 207 to 3333\n",
      "Data columns (total 2 columns):\n",
      " #   Column  Non-Null Count  Dtype  \n",
      "---  ------  --------------  -----  \n",
      " 0   Date    169 non-null    object \n",
      " 1   Envi    162 non-null    float64\n",
      "dtypes: float64(1), object(1)\n",
      "memory usage: 8.0+ KB\n"
     ]
    }
   ],
   "source": [
    "df_envi[\"Envi\"] = pd.to_numeric(df_envi[\"Envi\"])\n",
    "df_envi.info()"
   ]
  },
  {
   "cell_type": "code",
   "execution_count": 8,
   "metadata": {},
   "outputs": [
    {
     "data": {
      "text/html": [
       "<div>\n",
       "<style scoped>\n",
       "    .dataframe tbody tr th:only-of-type {\n",
       "        vertical-align: middle;\n",
       "    }\n",
       "\n",
       "    .dataframe tbody tr th {\n",
       "        vertical-align: top;\n",
       "    }\n",
       "\n",
       "    .dataframe thead th {\n",
       "        text-align: right;\n",
       "    }\n",
       "</style>\n",
       "<table border=\"1\" class=\"dataframe\">\n",
       "  <thead>\n",
       "    <tr style=\"text-align: right;\">\n",
       "      <th></th>\n",
       "      <th>Date</th>\n",
       "      <th>Envi</th>\n",
       "    </tr>\n",
       "  </thead>\n",
       "  <tbody>\n",
       "    <tr>\n",
       "      <th>207</th>\n",
       "      <td>04/01/2015</td>\n",
       "      <td>44562</td>\n",
       "    </tr>\n",
       "    <tr>\n",
       "      <th>206</th>\n",
       "      <td>11/01/2015</td>\n",
       "      <td>38112</td>\n",
       "    </tr>\n",
       "    <tr>\n",
       "      <th>205</th>\n",
       "      <td>18/01/2015</td>\n",
       "      <td>50355</td>\n",
       "    </tr>\n",
       "    <tr>\n",
       "      <th>204</th>\n",
       "      <td>25/01/2015</td>\n",
       "      <td>51922</td>\n",
       "    </tr>\n",
       "    <tr>\n",
       "      <th>203</th>\n",
       "      <td>01/02/2015</td>\n",
       "      <td>67496</td>\n",
       "    </tr>\n",
       "    <tr>\n",
       "      <th>202</th>\n",
       "      <td>08/02/2015</td>\n",
       "      <td>54229</td>\n",
       "    </tr>\n",
       "    <tr>\n",
       "      <th>201</th>\n",
       "      <td>15/02/2015</td>\n",
       "      <td>41548</td>\n",
       "    </tr>\n",
       "    <tr>\n",
       "      <th>200</th>\n",
       "      <td>22/02/2015</td>\n",
       "      <td>50872</td>\n",
       "    </tr>\n",
       "    <tr>\n",
       "      <th>199</th>\n",
       "      <td>01/03/2015</td>\n",
       "      <td>40578</td>\n",
       "    </tr>\n",
       "    <tr>\n",
       "      <th>198</th>\n",
       "      <td>08/03/2015</td>\n",
       "      <td>46025</td>\n",
       "    </tr>\n",
       "  </tbody>\n",
       "</table>\n",
       "</div>"
      ],
      "text/plain": [
       "           Date   Envi\n",
       "207  04/01/2015  44562\n",
       "206  11/01/2015  38112\n",
       "205  18/01/2015  50355\n",
       "204  25/01/2015  51922\n",
       "203  01/02/2015  67496\n",
       "202  08/02/2015  54229\n",
       "201  15/02/2015  41548\n",
       "200  22/02/2015  50872\n",
       "199  01/03/2015  40578\n",
       "198  08/03/2015  46025"
      ]
     },
     "execution_count": 8,
     "metadata": {},
     "output_type": "execute_result"
    }
   ],
   "source": [
    "df_envi = df_envi.interpolate()\n",
    "df_envi[\"Envi\"] = df_envi[\"Envi\"].astype(\"int64\")\n",
    "df_envi.head(10)"
   ]
  },
  {
   "cell_type": "markdown",
   "metadata": {},
   "source": [
    "1 predict 1"
   ]
  },
  {
   "cell_type": "code",
   "execution_count": 9,
   "metadata": {},
   "outputs": [
    {
     "data": {
      "text/html": [
       "<div>\n",
       "<style scoped>\n",
       "    .dataframe tbody tr th:only-of-type {\n",
       "        vertical-align: middle;\n",
       "    }\n",
       "\n",
       "    .dataframe tbody tr th {\n",
       "        vertical-align: top;\n",
       "    }\n",
       "\n",
       "    .dataframe thead th {\n",
       "        text-align: right;\n",
       "    }\n",
       "</style>\n",
       "<table border=\"1\" class=\"dataframe\">\n",
       "  <thead>\n",
       "    <tr style=\"text-align: right;\">\n",
       "      <th></th>\n",
       "      <th>Date</th>\n",
       "      <th>Envi</th>\n",
       "      <th>y</th>\n",
       "    </tr>\n",
       "  </thead>\n",
       "  <tbody>\n",
       "    <tr>\n",
       "      <th>207</th>\n",
       "      <td>04/01/2015</td>\n",
       "      <td>44562</td>\n",
       "      <td>38112</td>\n",
       "    </tr>\n",
       "    <tr>\n",
       "      <th>206</th>\n",
       "      <td>11/01/2015</td>\n",
       "      <td>38112</td>\n",
       "      <td>50355</td>\n",
       "    </tr>\n",
       "    <tr>\n",
       "      <th>205</th>\n",
       "      <td>18/01/2015</td>\n",
       "      <td>50355</td>\n",
       "      <td>51922</td>\n",
       "    </tr>\n",
       "    <tr>\n",
       "      <th>204</th>\n",
       "      <td>25/01/2015</td>\n",
       "      <td>51922</td>\n",
       "      <td>67496</td>\n",
       "    </tr>\n",
       "    <tr>\n",
       "      <th>203</th>\n",
       "      <td>01/02/2015</td>\n",
       "      <td>67496</td>\n",
       "      <td>54229</td>\n",
       "    </tr>\n",
       "  </tbody>\n",
       "</table>\n",
       "</div>"
      ],
      "text/plain": [
       "           Date   Envi      y\n",
       "207  04/01/2015  44562  38112\n",
       "206  11/01/2015  38112  50355\n",
       "205  18/01/2015  50355  51922\n",
       "204  25/01/2015  51922  67496\n",
       "203  01/02/2015  67496  54229"
      ]
     },
     "execution_count": 9,
     "metadata": {},
     "output_type": "execute_result"
    }
   ],
   "source": [
    "df1 = df_envi.copy()\n",
    "df1[\"y\"] = df1[\"Envi\"].shift(-1)\n",
    "df1.dropna(inplace=True)\n",
    "df1[\"y\"] = df1[\"y\"].astype(\"int64\")\n",
    "df1.head(5)"
   ]
  },
  {
   "cell_type": "markdown",
   "metadata": {},
   "source": [
    "sequence predict 1"
   ]
  },
  {
   "cell_type": "code",
   "execution_count": 10,
   "metadata": {},
   "outputs": [
    {
     "name": "stdout",
     "output_type": "stream",
     "text": [
      "<class 'pandas.core.frame.DataFrame'>\n",
      "Index: 164 entries, 207 to 3338\n",
      "Data columns (total 7 columns):\n",
      " #   Column  Non-Null Count  Dtype \n",
      "---  ------  --------------  ----- \n",
      " 0   Date    164 non-null    object\n",
      " 1   Envi    164 non-null    int64 \n",
      " 2   x1      164 non-null    int64 \n",
      " 3   x2      164 non-null    int64 \n",
      " 4   x3      164 non-null    int64 \n",
      " 5   x4      164 non-null    int64 \n",
      " 6   y       164 non-null    int64 \n",
      "dtypes: int64(6), object(1)\n",
      "memory usage: 10.2+ KB\n"
     ]
    }
   ],
   "source": [
    "def createSequenceToOneDataSet(r, data:pd.DataFrame):  # Create Sequence DataSet\n",
    "    df = data.copy()\n",
    "    i = 1\n",
    "    \n",
    "    while i < r:\n",
    "        df[f'x{i}'] = df['Envi'].shift(-i)\n",
    "        i += 1\n",
    "\n",
    "    if i == r:\n",
    "        df['y'] = df['Envi'].shift(-i)\n",
    "\n",
    "    df = df.dropna(axis=0)\n",
    "    \n",
    "    # change type of data\n",
    "    for i in range(1, r):\n",
    "        df[f'x{i}'] = df[f'x{i}'].astype(\"int64\")\n",
    "        \n",
    "    df['y'] = df[\"y\"].astype(\"int64\")\n",
    "    \n",
    "    return df\n",
    "\n",
    "df2 = createSequenceToOneDataSet(5, df_envi)\n",
    "df2.info()"
   ]
  },
  {
   "cell_type": "markdown",
   "metadata": {},
   "source": [
    "- บันทึกไฟล์ csv ของแอปเปิ้ลสายพันธ์ุ Envi เพื่อใช้สำหรับสร้างโมเดลต่อไป"
   ]
  },
  {
   "cell_type": "code",
   "execution_count": 11,
   "metadata": {},
   "outputs": [],
   "source": [
    "df1.to_csv(\"envi_1p1.csv\", sep=\",\", encoding=\"utf-8\", index=False)\n",
    "df2.to_csv(\"envi_sp1.csv\", sep=\",\", encoding=\"utf-8\", index=False)"
   ]
  }
 ],
 "metadata": {
  "kernelspec": {
   "display_name": "Python 3",
   "language": "python",
   "name": "python3"
  },
  "language_info": {
   "codemirror_mode": {
    "name": "ipython",
    "version": 3
   },
   "file_extension": ".py",
   "mimetype": "text/x-python",
   "name": "python",
   "nbconvert_exporter": "python",
   "pygments_lexer": "ipython3",
   "version": "3.11.5"
  }
 },
 "nbformat": 4,
 "nbformat_minor": 2
}
