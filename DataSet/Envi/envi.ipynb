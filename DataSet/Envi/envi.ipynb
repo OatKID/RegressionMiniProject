{
 "cells": [
  {
   "cell_type": "code",
   "execution_count": null,
   "metadata": {},
   "outputs": [],
   "source": [
    "import pandas as pd\n",
    "\n",
    "df = pd.read_csv('../Apple462.csv')\n",
    "df = df.drop(df[df[\"region\"] != \"UK\"].index)\n",
    "df = df.drop(columns=[\"Unnamed: 0\"])\n",
    "df"
   ]
  },
  {
   "cell_type": "code",
   "execution_count": null,
   "metadata": {},
   "outputs": [],
   "source": [
    "df_envi = df.drop(columns=[\"Fuji\", \"Gala\", \"region\"])\n",
    "df_envi\n",
    "\n",
    "# print(df_envi['Envi'])\n",
    "\n",
    "# df_envi.to_csv(\"envi.csv\", sep=\",\", encoding=\"utf-8\", index=False)"
   ]
  }
 ],
 "metadata": {
  "kernelspec": {
   "display_name": "Python 3",
   "language": "python",
   "name": "python3"
  },
  "language_info": {
   "codemirror_mode": {
    "name": "ipython",
    "version": 3
   },
   "file_extension": ".py",
   "mimetype": "text/x-python",
   "name": "python",
   "nbconvert_exporter": "python",
   "pygments_lexer": "ipython3",
   "version": "3.11.5"
  }
 },
 "nbformat": 4,
 "nbformat_minor": 2
}
