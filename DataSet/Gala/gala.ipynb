{
 "cells": [
  {
   "cell_type": "markdown",
   "metadata": {},
   "source": [
    "### การเตรียมชุดข้อมูลตัวอย่างของแอปเปิ้ลสายพันธุ์ Gala ในประเทศ UK"
   ]
  },
  {
   "cell_type": "markdown",
   "metadata": {},
   "source": [
    "- ทำการอ่านไฟล์ Apple462.csv \n",
    "- คัดกรองชุดข้อมูลตัวอย่างเฉพาะประเทศ UK"
   ]
  },
  {
   "cell_type": "code",
   "execution_count": 17,
   "metadata": {},
   "outputs": [
    {
     "data": {
      "text/html": [
       "<div>\n",
       "<style scoped>\n",
       "    .dataframe tbody tr th:only-of-type {\n",
       "        vertical-align: middle;\n",
       "    }\n",
       "\n",
       "    .dataframe tbody tr th {\n",
       "        vertical-align: top;\n",
       "    }\n",
       "\n",
       "    .dataframe thead th {\n",
       "        text-align: right;\n",
       "    }\n",
       "</style>\n",
       "<table border=\"1\" class=\"dataframe\">\n",
       "  <thead>\n",
       "    <tr style=\"text-align: right;\">\n",
       "      <th></th>\n",
       "      <th>Date</th>\n",
       "      <th>Envi</th>\n",
       "      <th>Fuji</th>\n",
       "      <th>Gala</th>\n",
       "      <th>region</th>\n",
       "    </tr>\n",
       "  </thead>\n",
       "  <tbody>\n",
       "    <tr>\n",
       "      <th>156</th>\n",
       "      <td>27/12/2015</td>\n",
       "      <td>30482</td>\n",
       "      <td>2972</td>\n",
       "      <td>5894</td>\n",
       "      <td>UK</td>\n",
       "    </tr>\n",
       "    <tr>\n",
       "      <th>157</th>\n",
       "      <td>20/12/2015</td>\n",
       "      <td>25628</td>\n",
       "      <td>2546</td>\n",
       "      <td>7394</td>\n",
       "      <td>UK</td>\n",
       "    </tr>\n",
       "    <tr>\n",
       "      <th>158</th>\n",
       "      <td>13/12/2015</td>\n",
       "      <td>27149</td>\n",
       "      <td>2986</td>\n",
       "      <td>6458</td>\n",
       "      <td>UK</td>\n",
       "    </tr>\n",
       "    <tr>\n",
       "      <th>159</th>\n",
       "      <td>6/12/2015</td>\n",
       "      <td>35591</td>\n",
       "      <td>12527</td>\n",
       "      <td>4086</td>\n",
       "      <td>UK</td>\n",
       "    </tr>\n",
       "    <tr>\n",
       "      <th>160</th>\n",
       "      <td>29/11/2015</td>\n",
       "      <td>24190</td>\n",
       "      <td>2790</td>\n",
       "      <td>6031</td>\n",
       "      <td>UK</td>\n",
       "    </tr>\n",
       "    <tr>\n",
       "      <th>...</th>\n",
       "      <td>...</td>\n",
       "      <td>...</td>\n",
       "      <td>...</td>\n",
       "      <td>...</td>\n",
       "      <td>...</td>\n",
       "    </tr>\n",
       "    <tr>\n",
       "      <th>3340</th>\n",
       "      <td>4/2/2018</td>\n",
       "      <td></td>\n",
       "      <td>8511</td>\n",
       "      <td>22490</td>\n",
       "      <td>UK</td>\n",
       "    </tr>\n",
       "    <tr>\n",
       "      <th>3341</th>\n",
       "      <td>28/1/2018</td>\n",
       "      <td>66654</td>\n",
       "      <td>1972</td>\n",
       "      <td>6962</td>\n",
       "      <td>UK</td>\n",
       "    </tr>\n",
       "    <tr>\n",
       "      <th>3342</th>\n",
       "      <td>21/1/2018</td>\n",
       "      <td>49711</td>\n",
       "      <td>2157</td>\n",
       "      <td>6343</td>\n",
       "      <td>UK</td>\n",
       "    </tr>\n",
       "    <tr>\n",
       "      <th>3343</th>\n",
       "      <td>14/1/2018</td>\n",
       "      <td>49335</td>\n",
       "      <td>7415</td>\n",
       "      <td>8299</td>\n",
       "      <td>UK</td>\n",
       "    </tr>\n",
       "    <tr>\n",
       "      <th>3344</th>\n",
       "      <td>7/1/2018</td>\n",
       "      <td>45937</td>\n",
       "      <td>2658</td>\n",
       "      <td>7511</td>\n",
       "      <td>UK</td>\n",
       "    </tr>\n",
       "  </tbody>\n",
       "</table>\n",
       "<p>169 rows × 5 columns</p>\n",
       "</div>"
      ],
      "text/plain": [
       "            Date   Envi   Fuji   Gala region\n",
       "156   27/12/2015  30482   2972   5894     UK\n",
       "157   20/12/2015  25628   2546   7394     UK\n",
       "158   13/12/2015  27149   2986   6458     UK\n",
       "159    6/12/2015  35591  12527   4086     UK\n",
       "160   29/11/2015  24190   2790   6031     UK\n",
       "...          ...    ...    ...    ...    ...\n",
       "3340    4/2/2018          8511  22490     UK\n",
       "3341   28/1/2018  66654   1972   6962     UK\n",
       "3342   21/1/2018  49711   2157   6343     UK\n",
       "3343   14/1/2018  49335   7415   8299     UK\n",
       "3344    7/1/2018  45937   2658   7511     UK\n",
       "\n",
       "[169 rows x 5 columns]"
      ]
     },
     "execution_count": 17,
     "metadata": {},
     "output_type": "execute_result"
    }
   ],
   "source": [
    "import pandas as pd\n",
    "\n",
    "df = pd.read_csv('../Apple462.csv')\n",
    "df = df.drop(df[df[\"region\"] != \"UK\"].index)\n",
    "df = df.drop(columns=[\"Unnamed: 0\"])\n",
    "\n",
    "df"
   ]
  },
  {
   "cell_type": "markdown",
   "metadata": {},
   "source": [
    "- นำ features ของวันที่และสายพันธุ์ Gala สร้างชุดข้อมูลตัวอย่างใหม่"
   ]
  },
  {
   "cell_type": "code",
   "execution_count": 18,
   "metadata": {},
   "outputs": [
    {
     "data": {
      "text/html": [
       "<div>\n",
       "<style scoped>\n",
       "    .dataframe tbody tr th:only-of-type {\n",
       "        vertical-align: middle;\n",
       "    }\n",
       "\n",
       "    .dataframe tbody tr th {\n",
       "        vertical-align: top;\n",
       "    }\n",
       "\n",
       "    .dataframe thead th {\n",
       "        text-align: right;\n",
       "    }\n",
       "</style>\n",
       "<table border=\"1\" class=\"dataframe\">\n",
       "  <thead>\n",
       "    <tr style=\"text-align: right;\">\n",
       "      <th></th>\n",
       "      <th>Date</th>\n",
       "      <th>Gala</th>\n",
       "    </tr>\n",
       "  </thead>\n",
       "  <tbody>\n",
       "    <tr>\n",
       "      <th>156</th>\n",
       "      <td>27/12/2015</td>\n",
       "      <td>5894</td>\n",
       "    </tr>\n",
       "    <tr>\n",
       "      <th>157</th>\n",
       "      <td>20/12/2015</td>\n",
       "      <td>7394</td>\n",
       "    </tr>\n",
       "    <tr>\n",
       "      <th>158</th>\n",
       "      <td>13/12/2015</td>\n",
       "      <td>6458</td>\n",
       "    </tr>\n",
       "    <tr>\n",
       "      <th>159</th>\n",
       "      <td>6/12/2015</td>\n",
       "      <td>4086</td>\n",
       "    </tr>\n",
       "    <tr>\n",
       "      <th>160</th>\n",
       "      <td>29/11/2015</td>\n",
       "      <td>6031</td>\n",
       "    </tr>\n",
       "    <tr>\n",
       "      <th>161</th>\n",
       "      <td>22/11/2015</td>\n",
       "      <td>6663</td>\n",
       "    </tr>\n",
       "    <tr>\n",
       "      <th>162</th>\n",
       "      <td>15/11/2015</td>\n",
       "      <td>6502</td>\n",
       "    </tr>\n",
       "    <tr>\n",
       "      <th>163</th>\n",
       "      <td>8/11/2015</td>\n",
       "      <td>6286</td>\n",
       "    </tr>\n",
       "    <tr>\n",
       "      <th>164</th>\n",
       "      <td>1/11/2015</td>\n",
       "      <td>6428</td>\n",
       "    </tr>\n",
       "    <tr>\n",
       "      <th>165</th>\n",
       "      <td>25/10/2015</td>\n",
       "      <td>6552</td>\n",
       "    </tr>\n",
       "  </tbody>\n",
       "</table>\n",
       "</div>"
      ],
      "text/plain": [
       "           Date  Gala\n",
       "156  27/12/2015  5894\n",
       "157  20/12/2015  7394\n",
       "158  13/12/2015  6458\n",
       "159   6/12/2015  4086\n",
       "160  29/11/2015  6031\n",
       "161  22/11/2015  6663\n",
       "162  15/11/2015  6502\n",
       "163   8/11/2015  6286\n",
       "164   1/11/2015  6428\n",
       "165  25/10/2015  6552"
      ]
     },
     "execution_count": 18,
     "metadata": {},
     "output_type": "execute_result"
    }
   ],
   "source": [
    "df_gala = df.drop(columns=[\"Envi\", \"Fuji\", \"region\"])\n",
    "df_gala.head(10)"
   ]
  },
  {
   "cell_type": "markdown",
   "metadata": {},
   "source": [
    "- เปลี่ยนชนิดข้อมูลของวันที่จาก object เป็น date\n",
    "- นำชุดข้อมูลตัวอย่างมาเรียงชุดข้อมูลตัวอย่างใหม่ตามวันที่จากเก่าไปใหม่"
   ]
  },
  {
   "cell_type": "code",
   "execution_count": 19,
   "metadata": {},
   "outputs": [
    {
     "name": "stdout",
     "output_type": "stream",
     "text": [
      "<class 'pandas.core.frame.DataFrame'>\n",
      "Index: 169 entries, 156 to 3344\n",
      "Data columns (total 2 columns):\n",
      " #   Column  Non-Null Count  Dtype         \n",
      "---  ------  --------------  -----         \n",
      " 0   Date    169 non-null    datetime64[ns]\n",
      " 1   Gala    169 non-null    object        \n",
      "dtypes: datetime64[ns](1), object(1)\n",
      "memory usage: 4.0+ KB\n"
     ]
    }
   ],
   "source": [
    "df_gala[\"Date\"] = pd.to_datetime(df_gala[\"Date\"], format=\"%d/%m/%Y\")\n",
    "df_gala.info()"
   ]
  },
  {
   "cell_type": "code",
   "execution_count": 20,
   "metadata": {},
   "outputs": [
    {
     "data": {
      "text/html": [
       "<div>\n",
       "<style scoped>\n",
       "    .dataframe tbody tr th:only-of-type {\n",
       "        vertical-align: middle;\n",
       "    }\n",
       "\n",
       "    .dataframe tbody tr th {\n",
       "        vertical-align: top;\n",
       "    }\n",
       "\n",
       "    .dataframe thead th {\n",
       "        text-align: right;\n",
       "    }\n",
       "</style>\n",
       "<table border=\"1\" class=\"dataframe\">\n",
       "  <thead>\n",
       "    <tr style=\"text-align: right;\">\n",
       "      <th></th>\n",
       "      <th>Date</th>\n",
       "      <th>Gala</th>\n",
       "    </tr>\n",
       "  </thead>\n",
       "  <tbody>\n",
       "    <tr>\n",
       "      <th>207</th>\n",
       "      <td>04/01/2015</td>\n",
       "      <td>2752</td>\n",
       "    </tr>\n",
       "    <tr>\n",
       "      <th>206</th>\n",
       "      <td>11/01/2015</td>\n",
       "      <td>3322</td>\n",
       "    </tr>\n",
       "    <tr>\n",
       "      <th>205</th>\n",
       "      <td>18/01/2015</td>\n",
       "      <td>2257</td>\n",
       "    </tr>\n",
       "    <tr>\n",
       "      <th>204</th>\n",
       "      <td>25/01/2015</td>\n",
       "      <td>2061</td>\n",
       "    </tr>\n",
       "    <tr>\n",
       "      <th>203</th>\n",
       "      <td>01/02/2015</td>\n",
       "      <td>2905</td>\n",
       "    </tr>\n",
       "    <tr>\n",
       "      <th>202</th>\n",
       "      <td>08/02/2015</td>\n",
       "      <td></td>\n",
       "    </tr>\n",
       "    <tr>\n",
       "      <th>201</th>\n",
       "      <td>15/02/2015</td>\n",
       "      <td>6493</td>\n",
       "    </tr>\n",
       "    <tr>\n",
       "      <th>200</th>\n",
       "      <td>22/02/2015</td>\n",
       "      <td>2122</td>\n",
       "    </tr>\n",
       "    <tr>\n",
       "      <th>199</th>\n",
       "      <td>01/03/2015</td>\n",
       "      <td>3492</td>\n",
       "    </tr>\n",
       "    <tr>\n",
       "      <th>198</th>\n",
       "      <td>08/03/2015</td>\n",
       "      <td>7404</td>\n",
       "    </tr>\n",
       "  </tbody>\n",
       "</table>\n",
       "</div>"
      ],
      "text/plain": [
       "           Date  Gala\n",
       "207  04/01/2015  2752\n",
       "206  11/01/2015  3322\n",
       "205  18/01/2015  2257\n",
       "204  25/01/2015  2061\n",
       "203  01/02/2015  2905\n",
       "202  08/02/2015      \n",
       "201  15/02/2015  6493\n",
       "200  22/02/2015  2122\n",
       "199  01/03/2015  3492\n",
       "198  08/03/2015  7404"
      ]
     },
     "execution_count": 20,
     "metadata": {},
     "output_type": "execute_result"
    }
   ],
   "source": [
    "df_gala.sort_values(by=\"Date\", inplace=True)\n",
    "df_gala[\"Date\"] = df_gala[\"Date\"].dt.strftime(\"%d/%m/%Y\")\n",
    "df_gala.head(10)"
   ]
  },
  {
   "cell_type": "markdown",
   "metadata": {},
   "source": [
    "- ตรวจสอลชุดข้อมูลตัวอย่างว่ามี miss value ในวันที่ใดบ้าง"
   ]
  },
  {
   "cell_type": "code",
   "execution_count": 21,
   "metadata": {},
   "outputs": [
    {
     "data": {
      "text/html": [
       "<div>\n",
       "<style scoped>\n",
       "    .dataframe tbody tr th:only-of-type {\n",
       "        vertical-align: middle;\n",
       "    }\n",
       "\n",
       "    .dataframe tbody tr th {\n",
       "        vertical-align: top;\n",
       "    }\n",
       "\n",
       "    .dataframe thead th {\n",
       "        text-align: right;\n",
       "    }\n",
       "</style>\n",
       "<table border=\"1\" class=\"dataframe\">\n",
       "  <thead>\n",
       "    <tr style=\"text-align: right;\">\n",
       "      <th></th>\n",
       "      <th>Date</th>\n",
       "      <th>Gala</th>\n",
       "    </tr>\n",
       "  </thead>\n",
       "  <tbody>\n",
       "    <tr>\n",
       "      <th>202</th>\n",
       "      <td>08/02/2015</td>\n",
       "      <td></td>\n",
       "    </tr>\n",
       "    <tr>\n",
       "      <th>187</th>\n",
       "      <td>24/05/2015</td>\n",
       "      <td></td>\n",
       "    </tr>\n",
       "  </tbody>\n",
       "</table>\n",
       "</div>"
      ],
      "text/plain": [
       "           Date Gala\n",
       "202  08/02/2015     \n",
       "187  24/05/2015     "
      ]
     },
     "execution_count": 21,
     "metadata": {},
     "output_type": "execute_result"
    }
   ],
   "source": [
    "result = df_gala[df_gala['Gala'] == ' ']\n",
    "result"
   ]
  },
  {
   "cell_type": "markdown",
   "metadata": {},
   "source": [
    "- แก้ไข miss value โดยหาค่าเฉลี่ยของ 2 วันก่อนหน้า\n",
    "- หลังจากแก้ไขแล้วให้เปลี่ยนชนิดข้อมูลของชุดข้อมูลตัวอย่างของ Envi ให้เป็นจำนวนเต็ม ( Integer ) เนื่องจากค่าเฉลี่ยทีได้อาจได้ค่าเป็นทศนิยม ( Float )"
   ]
  },
  {
   "cell_type": "code",
   "execution_count": 22,
   "metadata": {},
   "outputs": [
    {
     "name": "stdout",
     "output_type": "stream",
     "text": [
      "<class 'pandas.core.frame.DataFrame'>\n",
      "Index: 169 entries, 207 to 3333\n",
      "Data columns (total 2 columns):\n",
      " #   Column  Non-Null Count  Dtype \n",
      "---  ------  --------------  ----- \n",
      " 0   Date    169 non-null    object\n",
      " 1   Gala    169 non-null    int64 \n",
      "dtypes: int64(1), object(1)\n",
      "memory usage: 8.0+ KB\n"
     ]
    }
   ],
   "source": [
    "import numpy as np\n",
    "\n",
    "df_gala.loc[202, \"Gala\"] = np.nan\n",
    "df_gala.loc[187, \"Gala\"] = np.nan\n",
    "\n",
    "df_gala[\"Gala\"] = pd.to_numeric(df_gala[\"Gala\"])\n",
    "df_gala = df_gala.interpolate()\n",
    "\n",
    "df_gala[\"Gala\"] = df_gala[\"Gala\"].astype(\"int64\")\n",
    "df_gala.info()"
   ]
  },
  {
   "cell_type": "markdown",
   "metadata": {},
   "source": [
    "- บันทึกไฟล์ csv ของแอปเปิ้ลสายพันธ์ุ Envi เพื่อใช้สำหรับสร้างโมเดลต่อไป"
   ]
  },
  {
   "cell_type": "code",
   "execution_count": 23,
   "metadata": {},
   "outputs": [],
   "source": [
    "df_gala.to_csv(\"gala.csv\", sep=\",\", encoding=\"utf-8\", index=False)"
   ]
  }
 ],
 "metadata": {
  "kernelspec": {
   "display_name": "Python 3",
   "language": "python",
   "name": "python3"
  },
  "language_info": {
   "codemirror_mode": {
    "name": "ipython",
    "version": 3
   },
   "file_extension": ".py",
   "mimetype": "text/x-python",
   "name": "python",
   "nbconvert_exporter": "python",
   "pygments_lexer": "ipython3",
   "version": "0.0.0"
  }
 },
 "nbformat": 4,
 "nbformat_minor": 2
}
