{
 "cells": [
  {
   "cell_type": "code",
   "execution_count": 58,
   "metadata": {},
   "outputs": [],
   "source": [
    "import pandas as pd\n",
    "from sklearn.multioutput import RegressorChain\n",
    "from sklearn.ensemble import GradientBoostingRegressor\n",
    "import numpy as np\n",
    "from sklearn.metrics import mean_squared_error, r2_score, mean_absolute_error\n",
    "from sklearn.model_selection import train_test_split, KFold, cross_val_score\n",
    "import matplotlib.pyplot as plt\n",
    "from sklearn.preprocessing import StandardScaler"
   ]
  },
  {
   "cell_type": "code",
   "execution_count": 59,
   "metadata": {},
   "outputs": [
    {
     "name": "stdout",
     "output_type": "stream",
     "text": [
      "<class 'pandas.core.frame.DataFrame'>\n",
      "RangeIndex: 169 entries, 0 to 168\n",
      "Data columns (total 2 columns):\n",
      " #   Column  Non-Null Count  Dtype \n",
      "---  ------  --------------  ----- \n",
      " 0   Date    169 non-null    object\n",
      " 1   Envi    169 non-null    int64 \n",
      "dtypes: int64(1), object(1)\n",
      "memory usage: 2.8+ KB\n"
     ]
    }
   ],
   "source": [
    "df_envi_inter = pd.read_csv(\"../../../DataSet/Envi/envi_inter.csv\")\n",
    "df_envi_inter.info()"
   ]
  },
  {
   "cell_type": "code",
   "execution_count": 60,
   "metadata": {},
   "outputs": [
    {
     "data": {
      "text/html": [
       "<div>\n",
       "<style scoped>\n",
       "    .dataframe tbody tr th:only-of-type {\n",
       "        vertical-align: middle;\n",
       "    }\n",
       "\n",
       "    .dataframe tbody tr th {\n",
       "        vertical-align: top;\n",
       "    }\n",
       "\n",
       "    .dataframe thead th {\n",
       "        text-align: right;\n",
       "    }\n",
       "</style>\n",
       "<table border=\"1\" class=\"dataframe\">\n",
       "  <thead>\n",
       "    <tr style=\"text-align: right;\">\n",
       "      <th></th>\n",
       "      <th>Date</th>\n",
       "      <th>Envi</th>\n",
       "    </tr>\n",
       "  </thead>\n",
       "  <tbody>\n",
       "    <tr>\n",
       "      <th>0</th>\n",
       "      <td>04/01/2015</td>\n",
       "      <td>44562</td>\n",
       "    </tr>\n",
       "    <tr>\n",
       "      <th>1</th>\n",
       "      <td>11/01/2015</td>\n",
       "      <td>38112</td>\n",
       "    </tr>\n",
       "    <tr>\n",
       "      <th>2</th>\n",
       "      <td>18/01/2015</td>\n",
       "      <td>50355</td>\n",
       "    </tr>\n",
       "    <tr>\n",
       "      <th>3</th>\n",
       "      <td>25/01/2015</td>\n",
       "      <td>51922</td>\n",
       "    </tr>\n",
       "    <tr>\n",
       "      <th>4</th>\n",
       "      <td>01/02/2015</td>\n",
       "      <td>67496</td>\n",
       "    </tr>\n",
       "    <tr>\n",
       "      <th>...</th>\n",
       "      <td>...</td>\n",
       "      <td>...</td>\n",
       "    </tr>\n",
       "    <tr>\n",
       "      <th>164</th>\n",
       "      <td>25/02/2018</td>\n",
       "      <td>42116</td>\n",
       "    </tr>\n",
       "    <tr>\n",
       "      <th>165</th>\n",
       "      <td>04/03/2018</td>\n",
       "      <td>44454</td>\n",
       "    </tr>\n",
       "    <tr>\n",
       "      <th>166</th>\n",
       "      <td>11/03/2018</td>\n",
       "      <td>28399</td>\n",
       "    </tr>\n",
       "    <tr>\n",
       "      <th>167</th>\n",
       "      <td>18/03/2018</td>\n",
       "      <td>49145</td>\n",
       "    </tr>\n",
       "    <tr>\n",
       "      <th>168</th>\n",
       "      <td>25/03/2018</td>\n",
       "      <td>40362</td>\n",
       "    </tr>\n",
       "  </tbody>\n",
       "</table>\n",
       "<p>169 rows × 2 columns</p>\n",
       "</div>"
      ],
      "text/plain": [
       "           Date   Envi\n",
       "0    04/01/2015  44562\n",
       "1    11/01/2015  38112\n",
       "2    18/01/2015  50355\n",
       "3    25/01/2015  51922\n",
       "4    01/02/2015  67496\n",
       "..          ...    ...\n",
       "164  25/02/2018  42116\n",
       "165  04/03/2018  44454\n",
       "166  11/03/2018  28399\n",
       "167  18/03/2018  49145\n",
       "168  25/03/2018  40362\n",
       "\n",
       "[169 rows x 2 columns]"
      ]
     },
     "execution_count": 60,
     "metadata": {},
     "output_type": "execute_result"
    }
   ],
   "source": [
    "df_envi_inter"
   ]
  },
  {
   "cell_type": "code",
   "execution_count": 61,
   "metadata": {},
   "outputs": [],
   "source": [
    "def findBestRandomState(r,t, x, y):\n",
    "    random = 0\n",
    "    a = 1000000\n",
    "\n",
    "    model = RegressorChain(GradientBoostingRegressor())\n",
    "    for _ in range(r,t):\n",
    "        x_train, x_test, y_train, y_test = train_test_split(x, y, random_state=_)\n",
    "        model.fit(x_train, y_train)\n",
    "\n",
    "        y_predict = model.predict(x_test)\n",
    "        if (buff := mean_absolute_error(y_test, y_predict)) < a:\n",
    "            a = buff\n",
    "            random = _\n",
    "    print(a, random)"
   ]
  },
  {
   "cell_type": "markdown",
   "metadata": {},
   "source": [
    "Function Create X Sequence to Prdict 1"
   ]
  },
  {
   "cell_type": "code",
   "execution_count": 62,
   "metadata": {},
   "outputs": [],
   "source": [
    "def createSequenceToOneDataSet(r, data:pd.DataFrame):  # Create Sequence DataSet\n",
    "    df = data.copy()\n",
    "    i = 1\n",
    "    \n",
    "    while i < r:\n",
    "        df[f'x{i}'] = df['Envi'].shift(-i)\n",
    "        i += 1\n",
    "\n",
    "    if i == r:\n",
    "        df['y'] = df['Envi'].shift(-i)\n",
    "\n",
    "    df = df.dropna(axis=0)\n",
    "    return df"
   ]
  },
  {
   "cell_type": "markdown",
   "metadata": {},
   "source": [
    "DataSet for Predict y by Use Sequence X"
   ]
  },
  {
   "cell_type": "code",
   "execution_count": 63,
   "metadata": {},
   "outputs": [
    {
     "data": {
      "text/html": [
       "<div>\n",
       "<style scoped>\n",
       "    .dataframe tbody tr th:only-of-type {\n",
       "        vertical-align: middle;\n",
       "    }\n",
       "\n",
       "    .dataframe tbody tr th {\n",
       "        vertical-align: top;\n",
       "    }\n",
       "\n",
       "    .dataframe thead th {\n",
       "        text-align: right;\n",
       "    }\n",
       "</style>\n",
       "<table border=\"1\" class=\"dataframe\">\n",
       "  <thead>\n",
       "    <tr style=\"text-align: right;\">\n",
       "      <th></th>\n",
       "      <th>Date</th>\n",
       "      <th>Envi</th>\n",
       "      <th>x1</th>\n",
       "      <th>x2</th>\n",
       "      <th>x3</th>\n",
       "      <th>x4</th>\n",
       "      <th>y</th>\n",
       "    </tr>\n",
       "  </thead>\n",
       "  <tbody>\n",
       "    <tr>\n",
       "      <th>0</th>\n",
       "      <td>04/01/2015</td>\n",
       "      <td>44562</td>\n",
       "      <td>38112.0</td>\n",
       "      <td>50355.0</td>\n",
       "      <td>51922.0</td>\n",
       "      <td>67496.0</td>\n",
       "      <td>54229.0</td>\n",
       "    </tr>\n",
       "    <tr>\n",
       "      <th>1</th>\n",
       "      <td>11/01/2015</td>\n",
       "      <td>38112</td>\n",
       "      <td>50355.0</td>\n",
       "      <td>51922.0</td>\n",
       "      <td>67496.0</td>\n",
       "      <td>54229.0</td>\n",
       "      <td>41548.0</td>\n",
       "    </tr>\n",
       "    <tr>\n",
       "      <th>2</th>\n",
       "      <td>18/01/2015</td>\n",
       "      <td>50355</td>\n",
       "      <td>51922.0</td>\n",
       "      <td>67496.0</td>\n",
       "      <td>54229.0</td>\n",
       "      <td>41548.0</td>\n",
       "      <td>50872.0</td>\n",
       "    </tr>\n",
       "    <tr>\n",
       "      <th>3</th>\n",
       "      <td>25/01/2015</td>\n",
       "      <td>51922</td>\n",
       "      <td>67496.0</td>\n",
       "      <td>54229.0</td>\n",
       "      <td>41548.0</td>\n",
       "      <td>50872.0</td>\n",
       "      <td>40578.0</td>\n",
       "    </tr>\n",
       "    <tr>\n",
       "      <th>4</th>\n",
       "      <td>01/02/2015</td>\n",
       "      <td>67496</td>\n",
       "      <td>54229.0</td>\n",
       "      <td>41548.0</td>\n",
       "      <td>50872.0</td>\n",
       "      <td>40578.0</td>\n",
       "      <td>46025.0</td>\n",
       "    </tr>\n",
       "    <tr>\n",
       "      <th>...</th>\n",
       "      <td>...</td>\n",
       "      <td>...</td>\n",
       "      <td>...</td>\n",
       "      <td>...</td>\n",
       "      <td>...</td>\n",
       "      <td>...</td>\n",
       "      <td>...</td>\n",
       "    </tr>\n",
       "    <tr>\n",
       "      <th>159</th>\n",
       "      <td>21/01/2018</td>\n",
       "      <td>49711</td>\n",
       "      <td>66654.0</td>\n",
       "      <td>57481.0</td>\n",
       "      <td>48309.0</td>\n",
       "      <td>39773.0</td>\n",
       "      <td>42116.0</td>\n",
       "    </tr>\n",
       "    <tr>\n",
       "      <th>160</th>\n",
       "      <td>28/01/2018</td>\n",
       "      <td>66654</td>\n",
       "      <td>57481.0</td>\n",
       "      <td>48309.0</td>\n",
       "      <td>39773.0</td>\n",
       "      <td>42116.0</td>\n",
       "      <td>44454.0</td>\n",
       "    </tr>\n",
       "    <tr>\n",
       "      <th>161</th>\n",
       "      <td>04/02/2018</td>\n",
       "      <td>57481</td>\n",
       "      <td>48309.0</td>\n",
       "      <td>39773.0</td>\n",
       "      <td>42116.0</td>\n",
       "      <td>44454.0</td>\n",
       "      <td>28399.0</td>\n",
       "    </tr>\n",
       "    <tr>\n",
       "      <th>162</th>\n",
       "      <td>11/02/2018</td>\n",
       "      <td>48309</td>\n",
       "      <td>39773.0</td>\n",
       "      <td>42116.0</td>\n",
       "      <td>44454.0</td>\n",
       "      <td>28399.0</td>\n",
       "      <td>49145.0</td>\n",
       "    </tr>\n",
       "    <tr>\n",
       "      <th>163</th>\n",
       "      <td>18/02/2018</td>\n",
       "      <td>39773</td>\n",
       "      <td>42116.0</td>\n",
       "      <td>44454.0</td>\n",
       "      <td>28399.0</td>\n",
       "      <td>49145.0</td>\n",
       "      <td>40362.0</td>\n",
       "    </tr>\n",
       "  </tbody>\n",
       "</table>\n",
       "<p>164 rows × 7 columns</p>\n",
       "</div>"
      ],
      "text/plain": [
       "           Date   Envi       x1       x2       x3       x4        y\n",
       "0    04/01/2015  44562  38112.0  50355.0  51922.0  67496.0  54229.0\n",
       "1    11/01/2015  38112  50355.0  51922.0  67496.0  54229.0  41548.0\n",
       "2    18/01/2015  50355  51922.0  67496.0  54229.0  41548.0  50872.0\n",
       "3    25/01/2015  51922  67496.0  54229.0  41548.0  50872.0  40578.0\n",
       "4    01/02/2015  67496  54229.0  41548.0  50872.0  40578.0  46025.0\n",
       "..          ...    ...      ...      ...      ...      ...      ...\n",
       "159  21/01/2018  49711  66654.0  57481.0  48309.0  39773.0  42116.0\n",
       "160  28/01/2018  66654  57481.0  48309.0  39773.0  42116.0  44454.0\n",
       "161  04/02/2018  57481  48309.0  39773.0  42116.0  44454.0  28399.0\n",
       "162  11/02/2018  48309  39773.0  42116.0  44454.0  28399.0  49145.0\n",
       "163  18/02/2018  39773  42116.0  44454.0  28399.0  49145.0  40362.0\n",
       "\n",
       "[164 rows x 7 columns]"
      ]
     },
     "execution_count": 63,
     "metadata": {},
     "output_type": "execute_result"
    }
   ],
   "source": [
    "df = createSequenceToOneDataSet(5, df_envi_inter)\n",
    "df"
   ]
  },
  {
   "cell_type": "code",
   "execution_count": 64,
   "metadata": {},
   "outputs": [],
   "source": [
    "x = df[['Envi','x1','x2','x3','x4']].values # Pasing Df_x to x\n",
    "y = df['y'].values                          # Pasing Df_y to y\n",
    "\n",
    "y = y.reshape(-1,1)\n",
    "# scaler = StandardScaler()\n",
    "# scaler.fit(x)\n",
    "# x = scaler.transform(x)\n",
    "# scaler.fit(y.reshape(-1,1))\n",
    "# y = scaler.transform(y.reshape(-1,1))\n",
    "\n",
    "\n",
    "\n",
    "# findBestRandomState(100000,200000,x, y)\n",
    "# seed 195043 MAE: 3452.587947630313\n",
    "# seed 12049 MAE: 3531.341997248567\n",
    "# seed 9930 MAE: 3576.2944849569312\n",
    "# seed 607 MAE: 4145.711673614879\n",
    "\n",
    "x_train, x_test, y_train, y_test = train_test_split(x, y,test_size=0.2,random_state=12049)"
   ]
  },
  {
   "cell_type": "code",
   "execution_count": 65,
   "metadata": {},
   "outputs": [
    {
     "data": {
      "text/html": [
       "<style>#sk-container-id-6 {color: black;}#sk-container-id-6 pre{padding: 0;}#sk-container-id-6 div.sk-toggleable {background-color: white;}#sk-container-id-6 label.sk-toggleable__label {cursor: pointer;display: block;width: 100%;margin-bottom: 0;padding: 0.3em;box-sizing: border-box;text-align: center;}#sk-container-id-6 label.sk-toggleable__label-arrow:before {content: \"▸\";float: left;margin-right: 0.25em;color: #696969;}#sk-container-id-6 label.sk-toggleable__label-arrow:hover:before {color: black;}#sk-container-id-6 div.sk-estimator:hover label.sk-toggleable__label-arrow:before {color: black;}#sk-container-id-6 div.sk-toggleable__content {max-height: 0;max-width: 0;overflow: hidden;text-align: left;background-color: #f0f8ff;}#sk-container-id-6 div.sk-toggleable__content pre {margin: 0.2em;color: black;border-radius: 0.25em;background-color: #f0f8ff;}#sk-container-id-6 input.sk-toggleable__control:checked~div.sk-toggleable__content {max-height: 200px;max-width: 100%;overflow: auto;}#sk-container-id-6 input.sk-toggleable__control:checked~label.sk-toggleable__label-arrow:before {content: \"▾\";}#sk-container-id-6 div.sk-estimator input.sk-toggleable__control:checked~label.sk-toggleable__label {background-color: #d4ebff;}#sk-container-id-6 div.sk-label input.sk-toggleable__control:checked~label.sk-toggleable__label {background-color: #d4ebff;}#sk-container-id-6 input.sk-hidden--visually {border: 0;clip: rect(1px 1px 1px 1px);clip: rect(1px, 1px, 1px, 1px);height: 1px;margin: -1px;overflow: hidden;padding: 0;position: absolute;width: 1px;}#sk-container-id-6 div.sk-estimator {font-family: monospace;background-color: #f0f8ff;border: 1px dotted black;border-radius: 0.25em;box-sizing: border-box;margin-bottom: 0.5em;}#sk-container-id-6 div.sk-estimator:hover {background-color: #d4ebff;}#sk-container-id-6 div.sk-parallel-item::after {content: \"\";width: 100%;border-bottom: 1px solid gray;flex-grow: 1;}#sk-container-id-6 div.sk-label:hover label.sk-toggleable__label {background-color: #d4ebff;}#sk-container-id-6 div.sk-serial::before {content: \"\";position: absolute;border-left: 1px solid gray;box-sizing: border-box;top: 0;bottom: 0;left: 50%;z-index: 0;}#sk-container-id-6 div.sk-serial {display: flex;flex-direction: column;align-items: center;background-color: white;padding-right: 0.2em;padding-left: 0.2em;position: relative;}#sk-container-id-6 div.sk-item {position: relative;z-index: 1;}#sk-container-id-6 div.sk-parallel {display: flex;align-items: stretch;justify-content: center;background-color: white;position: relative;}#sk-container-id-6 div.sk-item::before, #sk-container-id-6 div.sk-parallel-item::before {content: \"\";position: absolute;border-left: 1px solid gray;box-sizing: border-box;top: 0;bottom: 0;left: 50%;z-index: -1;}#sk-container-id-6 div.sk-parallel-item {display: flex;flex-direction: column;z-index: 1;position: relative;background-color: white;}#sk-container-id-6 div.sk-parallel-item:first-child::after {align-self: flex-end;width: 50%;}#sk-container-id-6 div.sk-parallel-item:last-child::after {align-self: flex-start;width: 50%;}#sk-container-id-6 div.sk-parallel-item:only-child::after {width: 0;}#sk-container-id-6 div.sk-dashed-wrapped {border: 1px dashed gray;margin: 0 0.4em 0.5em 0.4em;box-sizing: border-box;padding-bottom: 0.4em;background-color: white;}#sk-container-id-6 div.sk-label label {font-family: monospace;font-weight: bold;display: inline-block;line-height: 1.2em;}#sk-container-id-6 div.sk-label-container {text-align: center;}#sk-container-id-6 div.sk-container {/* jupyter's `normalize.less` sets `[hidden] { display: none; }` but bootstrap.min.css set `[hidden] { display: none !important; }` so we also need the `!important` here to be able to override the default hidden behavior on the sphinx rendered scikit-learn.org. See: https://github.com/scikit-learn/scikit-learn/issues/21755 */display: inline-block !important;position: relative;}#sk-container-id-6 div.sk-text-repr-fallback {display: none;}</style><div id=\"sk-container-id-6\" class=\"sk-top-container\"><div class=\"sk-text-repr-fallback\"><pre>RegressorChain(base_estimator=GradientBoostingRegressor(criterion=&#x27;squared_error&#x27;,\n",
       "                                                        learning_rate=0.050000001))</pre><b>In a Jupyter environment, please rerun this cell to show the HTML representation or trust the notebook. <br />On GitHub, the HTML representation is unable to render, please try loading this page with nbviewer.org.</b></div><div class=\"sk-container\" hidden><div class=\"sk-item sk-dashed-wrapped\"><div class=\"sk-label-container\"><div class=\"sk-label sk-toggleable\"><input class=\"sk-toggleable__control sk-hidden--visually\" id=\"sk-estimator-id-16\" type=\"checkbox\" ><label for=\"sk-estimator-id-16\" class=\"sk-toggleable__label sk-toggleable__label-arrow\">RegressorChain</label><div class=\"sk-toggleable__content\"><pre>RegressorChain(base_estimator=GradientBoostingRegressor(criterion=&#x27;squared_error&#x27;,\n",
       "                                                        learning_rate=0.050000001))</pre></div></div></div><div class=\"sk-parallel\"><div class=\"sk-parallel-item\"><div class=\"sk-item\"><div class=\"sk-label-container\"><div class=\"sk-label sk-toggleable\"><input class=\"sk-toggleable__control sk-hidden--visually\" id=\"sk-estimator-id-17\" type=\"checkbox\" ><label for=\"sk-estimator-id-17\" class=\"sk-toggleable__label sk-toggleable__label-arrow\">base_estimator: GradientBoostingRegressor</label><div class=\"sk-toggleable__content\"><pre>GradientBoostingRegressor(criterion=&#x27;squared_error&#x27;, learning_rate=0.050000001)</pre></div></div></div><div class=\"sk-serial\"><div class=\"sk-item\"><div class=\"sk-estimator sk-toggleable\"><input class=\"sk-toggleable__control sk-hidden--visually\" id=\"sk-estimator-id-18\" type=\"checkbox\" ><label for=\"sk-estimator-id-18\" class=\"sk-toggleable__label sk-toggleable__label-arrow\">GradientBoostingRegressor</label><div class=\"sk-toggleable__content\"><pre>GradientBoostingRegressor(criterion=&#x27;squared_error&#x27;, learning_rate=0.050000001)</pre></div></div></div></div></div></div></div></div></div></div>"
      ],
      "text/plain": [
       "RegressorChain(base_estimator=GradientBoostingRegressor(criterion='squared_error',\n",
       "                                                        learning_rate=0.050000001))"
      ]
     },
     "execution_count": 65,
     "metadata": {},
     "output_type": "execute_result"
    }
   ],
   "source": [
    "ml = RegressorChain(GradientBoostingRegressor(learning_rate=0.050000001, criterion='squared_error'))\n",
    "ml.fit(x_train, y_train)"
   ]
  },
  {
   "cell_type": "code",
   "execution_count": 66,
   "metadata": {},
   "outputs": [],
   "source": [
    "def mape(y_true, y_pred):\n",
    "    return round(np.mean(np.abs((y_true - y_pred) / y_true)) * 100, 2)"
   ]
  },
  {
   "cell_type": "code",
   "execution_count": 67,
   "metadata": {},
   "outputs": [
    {
     "name": "stdout",
     "output_type": "stream",
     "text": [
      "Mean Absolute Error: 3112.574600219415\n",
      "The Mean Square Error: 14838757.278218528\n",
      "The R2 score: 0.7033340519351896\n"
     ]
    }
   ],
   "source": [
    "y_predict = ml.predict(x_test)\n",
    "print(f\"Mean Absolute Error: {mean_absolute_error(y_test, y_predict)}\")\n",
    "print(f\"The Mean Square Error: {mean_squared_error(y_test, y_predict)}\")\n",
    "print(f\"The R2 score: {r2_score(y_test, y_predict)}\")\n"
   ]
  },
  {
   "cell_type": "code",
   "execution_count": null,
   "metadata": {},
   "outputs": [],
   "source": []
  },
  {
   "cell_type": "code",
   "execution_count": 68,
   "metadata": {},
   "outputs": [
    {
     "name": "stdout",
     "output_type": "stream",
     "text": [
      "[[35393.50919725]]\n"
     ]
    }
   ],
   "source": [
    "print(ml.predict([[22243,22223,42342,46546,22425]]))"
   ]
  }
 ],
 "metadata": {
  "kernelspec": {
   "display_name": "Python 3",
   "language": "python",
   "name": "python3"
  },
  "language_info": {
   "codemirror_mode": {
    "name": "ipython",
    "version": 3
   },
   "file_extension": ".py",
   "mimetype": "text/x-python",
   "name": "python",
   "nbconvert_exporter": "python",
   "pygments_lexer": "ipython3",
   "version": "3.11.5"
  }
 },
 "nbformat": 4,
 "nbformat_minor": 2
}
